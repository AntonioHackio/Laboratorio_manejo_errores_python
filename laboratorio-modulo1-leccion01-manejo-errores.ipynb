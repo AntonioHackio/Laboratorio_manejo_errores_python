{
 "cells": [
  {
   "cell_type": "markdown",
   "metadata": {},
   "source": [
    "\n",
    "<div style=\"text-align: center;\">\n",
    "  <img src=\"https://github.com/Hack-io-Data/Imagenes/blob/main/01-LogosHackio/logo_celeste@4x.png?raw=true\" alt=\"esquema\" />\n",
    "</div>\n"
   ]
  },
  {
   "cell_type": "markdown",
   "metadata": {},
   "source": [
    "# Laboratorio de Python: manejo de errores."
   ]
  },
  {
   "cell_type": "markdown",
   "metadata": {},
   "source": [
    "## Ejercicio 1: División con manejo de excepciones\n",
    "\n",
    "Escribe un programa que pida al usuario dos números e intente dividirlos. Si el usuario ingresa un valor no numérico o intenta dividir por cero, maneja esas excepciones de manera adecuada. Asegúrate de mostrar un mensaje indicando si la división fue exitosa o no.\n"
   ]
  },
  {
   "cell_type": "code",
   "execution_count": null,
   "metadata": {},
   "outputs": [
    {
     "name": "stdout",
     "output_type": "stream",
     "text": [
      "Vamos a dividir dos numeros\n",
      "Los numeros elegidos son: 5 y 0 \n",
      "No se puede dividir por 0\n"
     ]
    }
   ],
   "source": [
    "try:\n",
    "    print(\"Vamos a dividir dos numeros\")\n",
    "\n",
    "    numero1 = int(input('Ingrese un numero: '))\n",
    "    numero2 = int(input('Ingrese otro numero: '))\n",
    "    print(f'Los numeros elegidos son: {numero1} y {numero2} ')\n",
    "\n",
    "    resultado = numero1 / numero2\n",
    "    print(f\"El resultado es: {resultado}\")\n",
    "\n",
    "except ValueError:\n",
    "    print(\"el valor debe ser un numero entero\")\n",
    "\n",
    "except ZeroDivisionError:\n",
    "    print(\"No se puede dividir por 0\")        "
   ]
  },
  {
   "cell_type": "markdown",
   "metadata": {},
   "source": [
    "## Ejercicio 2: Acceso a archivos\n",
    "\n",
    "Escribe un programa que intente abrir un archivo llamado \"datos.txt\". Si el archivo no existe, captura la excepción y muestra un mensaje de error. Asegúrate de cerrar el archivo correctamente en la sección `finally`.\n"
   ]
  },
  {
   "cell_type": "code",
   "execution_count": 26,
   "metadata": {},
   "outputs": [
    {
     "name": "stdout",
     "output_type": "stream",
     "text": [
      "No hemos encontrado el archivo\n"
     ]
    }
   ],
   "source": [
    "try:\n",
    "\n",
    "    documento = open('archivo.txt', 'r')\n",
    "    texto = documento.read()\n",
    "    print(texto)\n",
    "except FileNotFoundError:\n",
    "    print('No hemos encontrado el archivo')\n",
    "\n",
    "except Exception:\n",
    "    print('Ha ocurrido un error')\n",
    "\n",
    "finally:\n",
    "    if 'documento' in locals():\n",
    "        documento.close()\n",
    "        print(\"El documento se ha cerrado\")"
   ]
  },
  {
   "cell_type": "markdown",
   "metadata": {},
   "source": [
    "## Ejercicio 3: Conversión de cadenas a enteros\n",
    "\n",
    "Escribe un programa que pida una lista de números separados por comas y convierta cada valor a un número entero. Maneja las excepciones para valores que no sean convertibles y asegúrate de informar si la conversión fue exitosa o no.\n"
   ]
  },
  {
   "cell_type": "code",
   "execution_count": 46,
   "metadata": {},
   "outputs": [
    {
     "name": "stdout",
     "output_type": "stream",
     "text": [
      "Los numeros convertuidos son: [52]\n"
     ]
    }
   ],
   "source": [
    "peticion = input(\"Dame una lista de numeros separados por comas: \")\n",
    "lista_numeros_string  = peticion.split(\",\")\n",
    "lista_numeros = []\n",
    "\n",
    "for dato in lista_numeros_string:\n",
    "    try:\n",
    "        entero = int(dato.strip())\n",
    "        lista_numeros.append(entero)\n",
    "\n",
    "    except ValueError:\n",
    "        print(\"El valor no se puede convertir\")\n",
    "\n",
    "if lista_numeros:\n",
    "    print(\"Los numeros convertidos son:\", lista_numeros)\n",
    "else:\n",
    "    print(\"Los numeros no eran validos\")    "
   ]
  },
  {
   "cell_type": "markdown",
   "metadata": {},
   "source": [
    "#### Ejercicio 4: Cálculo del promedio con manejo de excepciones\n",
    "\n",
    "Escribe una función que reciba una lista de números y calcule su promedio. Si la lista está vacía, lanza una excepción personalizada y maneja el error adecuadamente.\n"
   ]
  },
  {
   "cell_type": "code",
   "execution_count": 59,
   "metadata": {},
   "outputs": [
    {
     "name": "stdout",
     "output_type": "stream",
     "text": [
      "El promedio es: 904.6666666666666\n"
     ]
    }
   ],
   "source": [
    "def promedio(numeros):\n",
    "    if not numeros:\n",
    "        print(\"La lista esta vacia\")\n",
    "    promedio = sum(numeros) / len(numeros)\n",
    "    return promedio\n",
    "\n",
    "try:\n",
    "    lista = [56, 89, 2569]\n",
    "    resultado = promedio(lista)\n",
    "    print(f\"El promedio es: {resultado}\")\n",
    "except:\n",
    "    pass   "
   ]
  },
  {
   "cell_type": "markdown",
   "metadata": {},
   "source": [
    "#### Ejercicio 5: Conversión segura de números\n",
    "\n",
    "Escribe un programa que convierta una cadena a número flotante e intente realizar una operación aritmética. Si la conversión falla, maneja la excepción y continúa con el flujo normal."
   ]
  },
  {
   "cell_type": "code",
   "execution_count": 71,
   "metadata": {},
   "outputs": [
    {
     "name": "stdout",
     "output_type": "stream",
     "text": [
      "El resultado es: 10123.0 \n"
     ]
    }
   ],
   "source": [
    "def conversor_aritmetico(cadena):\n",
    "    if not cadena:\n",
    "        print(\"No hay datos\")\n",
    "    try:\n",
    "        cadena_flotantes = float(cadena)\n",
    "        sumatorio = cadena_flotantes + 5600\n",
    "        return sumatorio\n",
    "    except ValueError:\n",
    "        print(\"Error\")\n",
    "\n",
    "\n",
    "try:\n",
    "    cadena = \"4523\"\n",
    "    resultado = conversor_aritmetico(cadena)\n",
    "    print(f\"El resultado es: {resultado} \")\n",
    "\n",
    "except:\n",
    "    pass         \n",
    "\n",
    "\n",
    "    "
   ]
  },
  {
   "cell_type": "markdown",
   "metadata": {},
   "source": [
    "#### Ejercicio 6: Acceso a claves en diccionarios\n",
    "\n",
    "Escribe un programa que intente acceder a una clave específica en un diccionario. Si la clave no existe, maneja la excepción `KeyError` y muestra un mensaje indicando el problema."
   ]
  },
  {
   "cell_type": "code",
   "execution_count": 119,
   "metadata": {},
   "outputs": [
    {
     "name": "stdout",
     "output_type": "stream",
     "text": [
      "Se ha encontrado tu clave\n"
     ]
    }
   ],
   "source": [
    "def busca_claves(diccionario):\n",
    "    try:\n",
    "        valor = input(\"Escribe una clave: \")\n",
    "        if not diccionario:\n",
    "            print(\"No encuentro el diccionario\")\n",
    "    \n",
    "        if valor in diccionario:\n",
    "            print(\"Se ha encontrado tu clave\")\n",
    "        else:\n",
    "            print(\"No existe esa clave aqui\")\n",
    "    except KeyError:\n",
    "        print(\"No existe esta clave\")    \n",
    "\n",
    "\n",
    "diccionario = {'Manuel': 12, 'Antonio': 63, 'Adrian': 71}\n",
    "\n",
    "busca_claves(diccionario)\n",
    "          "
   ]
  },
  {
   "cell_type": "markdown",
   "metadata": {},
   "source": [
    "\n",
    "#### Ejercicio 7: Verificación de entradas de usuario\n",
    "\n",
    "Escribe un programa que pida al usuario que introduzca su edad. Si el usuario ingresa un valor no numérico o un valor fuera del rango esperado (por ejemplo, menor que 0 o mayor que 120), maneja las excepciones adecuadamente."
   ]
  },
  {
   "cell_type": "code",
   "execution_count": 112,
   "metadata": {},
   "outputs": [
    {
     "name": "stdout",
     "output_type": "stream",
     "text": [
      "No puedes tener esa edad \n"
     ]
    }
   ],
   "source": [
    "def comprobar_edad():\n",
    "    try:\n",
    "        valor = input(\"Escribe tu edad: \")\n",
    "        valor = int(valor)\n",
    "\n",
    "        if valor < 0 or valor >120:\n",
    "            print(\"No puedes tener esa edad \")\n",
    "        else:\n",
    "            print(f'Tu edad es de {valor} años')            \n",
    "    except ValueError:\n",
    "        print(\"Necesito un valor numerico\")\n",
    "\n",
    "comprobar_edad()         \n"
   ]
  },
  {
   "cell_type": "markdown",
   "metadata": {},
   "source": [
    "#### Ejercicio 8: Extracción de valores de una lista\n",
    "\n",
    "Escribe una función que intente acceder a un índice específico en una lista. Si el índice está fuera del rango, maneja la excepción `IndexError` y muestra un mensaje adecuado.\n"
   ]
  },
  {
   "cell_type": "code",
   "execution_count": 1,
   "metadata": {},
   "outputs": [
    {
     "name": "stdout",
     "output_type": "stream",
     "text": [
      "El elemento en el indice 5 es 546 \n"
     ]
    }
   ],
   "source": [
    "def busca_indice(lista, indice):\n",
    "    try:\n",
    "        elemento = lista[indice]\n",
    "        print(f\"El elemento en el indice {indice} es {elemento} \")\n",
    "    except IndexError:\n",
    "        print('Error: El indice esta fuera de rango')\n",
    "\n",
    "lista = [45, 56, 65, 78, 89, 546]\n",
    "busca_indice(lista,5)            "
   ]
  }
 ],
 "metadata": {
  "kernelspec": {
   "display_name": "Python 3",
   "language": "python",
   "name": "python3"
  },
  "language_info": {
   "codemirror_mode": {
    "name": "ipython",
    "version": 3
   },
   "file_extension": ".py",
   "mimetype": "text/x-python",
   "name": "python",
   "nbconvert_exporter": "python",
   "pygments_lexer": "ipython3",
   "version": "3.13.0"
  }
 },
 "nbformat": 4,
 "nbformat_minor": 2
}
